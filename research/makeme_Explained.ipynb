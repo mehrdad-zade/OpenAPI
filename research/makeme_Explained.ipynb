{
 "cells": [
  {
   "attachments": {},
   "cell_type": "markdown",
   "metadata": {},
   "source": [
    "# Andrej Karpathy's /makemore"
   ]
  },
  {
   "attachments": {},
   "cell_type": "markdown",
   "metadata": {},
   "source": [
    "#### Reference\n",
    "https://www.youtube.com/watch?v=PaCmpygFfXo\n",
    "\n",
    "https://github.com/karpathy/makemore"
   ]
  },
  {
   "attachments": {},
   "cell_type": "markdown",
   "metadata": {},
   "source": [
    "makemore has data sets such as 35k names that can be taken as an input into a NN and expect to get new unique names based on the inputs that will \"sound\" like a name.\n",
    "\n",
    "makemore is character level model. meaning that, it takes the list of names and evaluates each name on a character level. this way the model understands the sequence of characters and is able to predict the next char. \n",
    "\n",
    "there are several models for doing so. starting with the old style Bigrams and Bag of words. then moving to RNN and GRU. and finally using the modern Transformer model that is being used in ChatGPT.\n",
    "\n",
    "eventually we'll be able to work with words so we could build large documents with them. \n",
    "\n",
    "finally we'll explore image2text models such as Doll-E and stable diffusion."
   ]
  },
  {
   "attachments": {},
   "cell_type": "markdown",
   "metadata": {},
   "source": [
    "## Character Level Modeling"
   ]
  },
  {
   "cell_type": "code",
   "execution_count": 14,
   "metadata": {},
   "outputs": [
    {
     "data": {
      "text/plain": [
       "['emma',\n",
       " 'olivia',\n",
       " 'ava',\n",
       " 'isabella',\n",
       " 'sophia',\n",
       " 'charlotte',\n",
       " 'mia',\n",
       " 'amelia',\n",
       " 'harper',\n",
       " 'evelyn']"
      ]
     },
     "execution_count": 14,
     "metadata": {},
     "output_type": "execute_result"
    }
   ],
   "source": [
    "import os\n",
    "\n",
    "# read from another package while wee are in a separate package\n",
    "current_directory = os.getcwd()\n",
    "parent_directory = os.path.dirname(current_directory)\n",
    "file_path = os.path.join(parent_directory, 'opensource/makemore', 'names.txt')\n",
    "words = open(file_path, 'r').read().splitlines()\n",
    "words[:10]\n"
   ]
  }
 ],
 "metadata": {
  "kernelspec": {
   "display_name": "myenv",
   "language": "python",
   "name": "python3"
  },
  "language_info": {
   "codemirror_mode": {
    "name": "ipython",
    "version": 3
   },
   "file_extension": ".py",
   "mimetype": "text/x-python",
   "name": "python",
   "nbconvert_exporter": "python",
   "pygments_lexer": "ipython3",
   "version": "3.9.7"
  },
  "orig_nbformat": 4
 },
 "nbformat": 4,
 "nbformat_minor": 2
}
