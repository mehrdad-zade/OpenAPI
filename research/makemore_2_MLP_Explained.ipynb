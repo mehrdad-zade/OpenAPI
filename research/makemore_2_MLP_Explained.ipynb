{
 "cells": [
  {
   "attachments": {},
   "cell_type": "markdown",
   "metadata": {},
   "source": [
    "# Andrej Karpathy's /makemore"
   ]
  },
  {
   "attachments": {},
   "cell_type": "markdown",
   "metadata": {},
   "source": [
    "#### Reference\n",
    "https://www.youtube.com/watch?v=TCH_1BHY58I\n",
    "\n",
    "https://github.com/karpathy/makemore"
   ]
  },
  {
   "attachments": {},
   "cell_type": "markdown",
   "metadata": {},
   "source": [
    "With Bigram char level model, we only used two chars which created a 27x27 data space. if we move deeper in this approach to enhance the loss function and the model itself, the only avenue was to explor adding more dimensions, i.e. 27x27x27. however this path suddenly explodes in terms of data and parameters that we want to use for this model.\n",
    "\n",
    "Therefore, we need to explore a better model."
   ]
  },
  {
   "attachments": {},
   "cell_type": "markdown",
   "metadata": {},
   "source": [
    "## Multi Layer Perceptron (MLP)\n",
    "#### Bengio et al. 2003\n",
    "\n",
    "This is another char level model to predict the next char, however the paper is based on word predictions. \n",
    "\n",
    "The proposed approach is to take 'w' number of words, and associate to each word, 'm' number of feature vectors. Meaning that, each word is embedded in a 'm' dimensional feature space. Initially these words are initialized randomly but later we'll tune them using backpropagation. \n",
    "\n",
    "To imagine this approach, think about words that are similar or synonyms. They will end up in the same part of the space. And those that are different will be separated. \n",
    "\n",
    "The modeling approach is similar to the NN approach for Bigram. They use multi-layer NN to predict the next words, given the previous words. To train the NN, they ```maximize the log-likelihood of the training data```.\n",
    "\n",
    "Let's look at an ```example``` for this approach. Assume, we are not given the sentence \"A dog was running in a room\". But now for testing the model we are providing it with \"A dog was running in a ...\" and expecting the model to fill in the blank. Since it hasn't seen this exact sentence, we call it, ```out of distribution```. However, MLP doesn't need to have seen the exact words to predict 'room' for the blank. Because it might have seen \"The dog was running in a room\" and based on the learnings, it has put the embeddings of 'The' and 'A' near by each other in the space. So now that we are asking it to fill the blank based on \"A dog was running in a ...\", it will match it up with \"The dog was running in a room\". This is called ```knowledge transfer```.\n",
    "\n",
    "Let's look at the ```architecture``` of this approach. \n",
    "\n",
    "Assume the NN's input, takes 3 previous-words. And the output is the fourth word. Each of the incoming words, will go through a look-up table, to match up the corresponding embedding ('m' feature vector) for that word. So there will be $3 \\times m$ neurons holding the 3 words. \n",
    "\n",
    "Then we need to build a hidden layer. The size is a ```hyper-parameter```. Meaning that, we need to come up with the right size based on try-error. So all the input neurons goes into the hidden layer. And there will be a ```tanh``` function applied for non-linearity. \n",
    "\n",
    "The output layer is a huge one, because the number of neurons is equivalent to $w$, the number of words in our data set. All the neurons in the hidden layer are connected to the output neurons. That's why there will be lots of params in between these two layers, and therefore, it's going to be computationally expensive. On top of the output layer we have ```softmax``` (exponentiate the logits and normalize, so that it will sum up to 1). This way, we'll get a nice probability distribution for the next word in the sequence. \n",
    "\n",
    "During training, because we have xs and ys, we will get the probability for each x and minimize the NN's loss by improving the parameters. The optimization used here is also ```backpropagation```."
   ]
  },
  {
   "cell_type": "code",
   "execution_count": 60,
   "metadata": {},
   "outputs": [],
   "source": [
    "import torch\n",
    "import torch.nn.functional as F\n",
    "import matplotlib.pyplot as plt\n",
    "%matplotlib inline"
   ]
  },
  {
   "cell_type": "code",
   "execution_count": 61,
   "metadata": {},
   "outputs": [
    {
     "data": {
      "text/plain": [
       "['emma',\n",
       " 'olivia',\n",
       " 'ava',\n",
       " 'isabella',\n",
       " 'sophia',\n",
       " 'charlotte',\n",
       " 'mia',\n",
       " 'amelia',\n",
       " 'harper',\n",
       " 'evelyn']"
      ]
     },
     "execution_count": 61,
     "metadata": {},
     "output_type": "execute_result"
    }
   ],
   "source": [
    "import os\n",
    "\n",
    "# read from another package while we are in a separate package\n",
    "current_directory = os.getcwd()\n",
    "parent_directory = os.path.dirname(current_directory)\n",
    "file_path = os.path.join(parent_directory, 'opensource/makemore', 'names.txt')\n",
    "\n",
    "words = open(file_path, 'r').read().splitlines()\n",
    "\n",
    "words[:10]"
   ]
  },
  {
   "cell_type": "code",
   "execution_count": 62,
   "metadata": {},
   "outputs": [
    {
     "name": "stdout",
     "output_type": "stream",
     "text": [
      "{1: 'a', 2: 'b', 3: 'c', 4: 'd', 5: 'e', 6: 'f', 7: 'g', 8: 'h', 9: 'i', 10: 'j', 11: 'k', 12: 'l', 13: 'm', 14: 'n', 15: 'o', 16: 'p', 17: 'q', 18: 'r', 19: 's', 20: 't', 21: 'u', 22: 'v', 23: 'w', 24: 'x', 25: 'y', 26: 'z', 0: '.'}\n"
     ]
    }
   ],
   "source": [
    "# build the vocabulary of chars and mappings to/from integers\n",
    "chars = sorted(list(set(''.join(words))))\n",
    "s2i = {s:i+1 for i,s in enumerate(chars)}\n",
    "s2i['.'] = 0\n",
    "i2s = {i:s for s,i in s2i.items()}\n",
    "print(i2s)"
   ]
  },
  {
   "attachments": {},
   "cell_type": "markdown",
   "metadata": {},
   "source": [
    "#### build the dataset"
   ]
  },
  {
   "cell_type": "code",
   "execution_count": 63,
   "metadata": {},
   "outputs": [
    {
     "name": "stdout",
     "output_type": "stream",
     "text": [
      "emma\n",
      "... ---> e\n",
      "..e ---> m\n",
      ".em ---> m\n",
      "emm ---> a\n",
      "mma ---> .\n",
      "olivia\n",
      "... ---> o\n",
      "..o ---> l\n",
      ".ol ---> i\n",
      "oli ---> v\n",
      "liv ---> i\n",
      "ivi ---> a\n",
      "via ---> .\n",
      "ava\n",
      "... ---> a\n",
      "..a ---> v\n",
      ".av ---> a\n",
      "ava ---> .\n",
      "isabella\n",
      "... ---> i\n",
      "..i ---> s\n",
      ".is ---> a\n",
      "isa ---> b\n",
      "sab ---> e\n",
      "abe ---> l\n",
      "bel ---> l\n",
      "ell ---> a\n",
      "lla ---> .\n",
      "sophia\n",
      "... ---> s\n",
      "..s ---> o\n",
      ".so ---> p\n",
      "sop ---> h\n",
      "oph ---> i\n",
      "phi ---> a\n",
      "hia ---> .\n"
     ]
    }
   ],
   "source": [
    "# build the dataset\n",
    "\n",
    "block_size = 3 # context length: how many chars do we take to predict the next char, 4-th one\n",
    "X, Y = [], []\n",
    "for w in words[:5]: # the examples we can generate from the first 5 words\n",
    "    print(w)\n",
    "    context = [0] * block_size\n",
    "    for ch in w + '.': # we are padding with dots, because if the word doesn't have enough chars to cover for our block_size, we'll have something to build\n",
    "        ix = s2i[ch]\n",
    "        X.append(context)\n",
    "        Y.append(ix)\n",
    "        print(''.join(i2s[i] for i in context), '--->', i2s[ix])\n",
    "        context = context[1:] + [ix] # crop and append\n",
    "X = torch.tensor(X)\n",
    "Y = torch.tensor(Y)"
   ]
  },
  {
   "cell_type": "code",
   "execution_count": 64,
   "metadata": {},
   "outputs": [
    {
     "data": {
      "text/plain": [
       "tensor([[ 0,  0,  0],\n",
       "        [ 0,  0,  5],\n",
       "        [ 0,  5, 13],\n",
       "        [ 5, 13, 13],\n",
       "        [13, 13,  1],\n",
       "        [ 0,  0,  0],\n",
       "        [ 0,  0, 15],\n",
       "        [ 0, 15, 12],\n",
       "        [15, 12,  9],\n",
       "        [12,  9, 22],\n",
       "        [ 9, 22,  9],\n",
       "        [22,  9,  1],\n",
       "        [ 0,  0,  0],\n",
       "        [ 0,  0,  1],\n",
       "        [ 0,  1, 22],\n",
       "        [ 1, 22,  1],\n",
       "        [ 0,  0,  0],\n",
       "        [ 0,  0,  9],\n",
       "        [ 0,  9, 19],\n",
       "        [ 9, 19,  1],\n",
       "        [19,  1,  2],\n",
       "        [ 1,  2,  5],\n",
       "        [ 2,  5, 12],\n",
       "        [ 5, 12, 12],\n",
       "        [12, 12,  1],\n",
       "        [ 0,  0,  0],\n",
       "        [ 0,  0, 19],\n",
       "        [ 0, 19, 15],\n",
       "        [19, 15, 16],\n",
       "        [15, 16,  8],\n",
       "        [16,  8,  9],\n",
       "        [ 8,  9,  1]])"
      ]
     },
     "execution_count": 64,
     "metadata": {},
     "output_type": "execute_result"
    }
   ],
   "source": [
    "X"
   ]
  },
  {
   "cell_type": "code",
   "execution_count": 65,
   "metadata": {},
   "outputs": [
    {
     "data": {
      "text/plain": [
       "tensor([ 5, 13, 13,  1,  0, 15, 12,  9, 22,  9,  1,  0,  1, 22,  1,  0,  9, 19,\n",
       "         1,  2,  5, 12, 12,  1,  0, 19, 15, 16,  8,  9,  1,  0])"
      ]
     },
     "execution_count": 65,
     "metadata": {},
     "output_type": "execute_result"
    }
   ],
   "source": [
    "Y"
   ]
  },
  {
   "attachments": {},
   "cell_type": "markdown",
   "metadata": {},
   "source": [
    "#### Build The Embeddings\n",
    "\n",
    "the paper used 70000 words with 30 embeddings. we have 27 chars, so we'll go with 2 embeddings."
   ]
  },
  {
   "cell_type": "code",
   "execution_count": 66,
   "metadata": {},
   "outputs": [
    {
     "data": {
      "text/plain": [
       "tensor([-1.3004, -0.6561])"
      ]
     },
     "execution_count": 66,
     "metadata": {},
     "output_type": "execute_result"
    }
   ],
   "source": [
    "C = torch.randn((27, 2))\n",
    "C[5]"
   ]
  },
  {
   "cell_type": "code",
   "execution_count": 67,
   "metadata": {},
   "outputs": [
    {
     "data": {
      "text/plain": [
       "tensor([[-1.3004, -0.6561],\n",
       "        [-0.3903,  0.2140],\n",
       "        [ 0.6566, -0.8840]])"
      ]
     },
     "execution_count": 67,
     "metadata": {},
     "output_type": "execute_result"
    }
   ],
   "source": [
    "# retrieve embeddings with a list of lookups\n",
    "C[[5,6,8]]"
   ]
  },
  {
   "cell_type": "code",
   "execution_count": 68,
   "metadata": {},
   "outputs": [
    {
     "data": {
      "text/plain": [
       "tensor([[[-0.5074, -1.8076],\n",
       "         [-0.5074, -1.8076],\n",
       "         [-0.5074, -1.8076]],\n",
       "\n",
       "        [[-0.5074, -1.8076],\n",
       "         [-0.5074, -1.8076],\n",
       "         [-1.3004, -0.6561]],\n",
       "\n",
       "        [[-0.5074, -1.8076],\n",
       "         [-1.3004, -0.6561],\n",
       "         [ 1.0227,  0.9855]],\n",
       "\n",
       "        [[-1.3004, -0.6561],\n",
       "         [ 1.0227,  0.9855],\n",
       "         [ 1.0227,  0.9855]],\n",
       "\n",
       "        [[ 1.0227,  0.9855],\n",
       "         [ 1.0227,  0.9855],\n",
       "         [ 0.6858, -1.1174]],\n",
       "\n",
       "        [[-0.5074, -1.8076],\n",
       "         [-0.5074, -1.8076],\n",
       "         [-0.5074, -1.8076]],\n",
       "\n",
       "        [[-0.5074, -1.8076],\n",
       "         [-0.5074, -1.8076],\n",
       "         [ 0.0346,  0.3226]],\n",
       "\n",
       "        [[-0.5074, -1.8076],\n",
       "         [ 0.0346,  0.3226],\n",
       "         [-2.1583, -0.1153]],\n",
       "\n",
       "        [[ 0.0346,  0.3226],\n",
       "         [-2.1583, -0.1153],\n",
       "         [ 0.2075,  0.1068]],\n",
       "\n",
       "        [[-2.1583, -0.1153],\n",
       "         [ 0.2075,  0.1068],\n",
       "         [ 1.1989,  0.2576]],\n",
       "\n",
       "        [[ 0.2075,  0.1068],\n",
       "         [ 1.1989,  0.2576],\n",
       "         [ 0.2075,  0.1068]],\n",
       "\n",
       "        [[ 1.1989,  0.2576],\n",
       "         [ 0.2075,  0.1068],\n",
       "         [ 0.6858, -1.1174]],\n",
       "\n",
       "        [[-0.5074, -1.8076],\n",
       "         [-0.5074, -1.8076],\n",
       "         [-0.5074, -1.8076]],\n",
       "\n",
       "        [[-0.5074, -1.8076],\n",
       "         [-0.5074, -1.8076],\n",
       "         [ 0.6858, -1.1174]],\n",
       "\n",
       "        [[-0.5074, -1.8076],\n",
       "         [ 0.6858, -1.1174],\n",
       "         [ 1.1989,  0.2576]],\n",
       "\n",
       "        [[ 0.6858, -1.1174],\n",
       "         [ 1.1989,  0.2576],\n",
       "         [ 0.6858, -1.1174]],\n",
       "\n",
       "        [[-0.5074, -1.8076],\n",
       "         [-0.5074, -1.8076],\n",
       "         [-0.5074, -1.8076]],\n",
       "\n",
       "        [[-0.5074, -1.8076],\n",
       "         [-0.5074, -1.8076],\n",
       "         [ 0.2075,  0.1068]],\n",
       "\n",
       "        [[-0.5074, -1.8076],\n",
       "         [ 0.2075,  0.1068],\n",
       "         [-0.2595,  0.4304]],\n",
       "\n",
       "        [[ 0.2075,  0.1068],\n",
       "         [-0.2595,  0.4304],\n",
       "         [ 0.6858, -1.1174]],\n",
       "\n",
       "        [[-0.2595,  0.4304],\n",
       "         [ 0.6858, -1.1174],\n",
       "         [ 0.1293,  0.7245]],\n",
       "\n",
       "        [[ 0.6858, -1.1174],\n",
       "         [ 0.1293,  0.7245],\n",
       "         [-1.3004, -0.6561]],\n",
       "\n",
       "        [[ 0.1293,  0.7245],\n",
       "         [-1.3004, -0.6561],\n",
       "         [-2.1583, -0.1153]],\n",
       "\n",
       "        [[-1.3004, -0.6561],\n",
       "         [-2.1583, -0.1153],\n",
       "         [-2.1583, -0.1153]],\n",
       "\n",
       "        [[-2.1583, -0.1153],\n",
       "         [-2.1583, -0.1153],\n",
       "         [ 0.6858, -1.1174]],\n",
       "\n",
       "        [[-0.5074, -1.8076],\n",
       "         [-0.5074, -1.8076],\n",
       "         [-0.5074, -1.8076]],\n",
       "\n",
       "        [[-0.5074, -1.8076],\n",
       "         [-0.5074, -1.8076],\n",
       "         [-0.2595,  0.4304]],\n",
       "\n",
       "        [[-0.5074, -1.8076],\n",
       "         [-0.2595,  0.4304],\n",
       "         [ 0.0346,  0.3226]],\n",
       "\n",
       "        [[-0.2595,  0.4304],\n",
       "         [ 0.0346,  0.3226],\n",
       "         [-1.2582,  0.6796]],\n",
       "\n",
       "        [[ 0.0346,  0.3226],\n",
       "         [-1.2582,  0.6796],\n",
       "         [ 0.6566, -0.8840]],\n",
       "\n",
       "        [[-1.2582,  0.6796],\n",
       "         [ 0.6566, -0.8840],\n",
       "         [ 0.2075,  0.1068]],\n",
       "\n",
       "        [[ 0.6566, -0.8840],\n",
       "         [ 0.2075,  0.1068],\n",
       "         [ 0.6858, -1.1174]]])"
      ]
     },
     "execution_count": 68,
     "metadata": {},
     "output_type": "execute_result"
    }
   ],
   "source": [
    "# therefore this works\n",
    "emb = C[X]\n",
    "emb"
   ]
  },
  {
   "attachments": {},
   "cell_type": "markdown",
   "metadata": {},
   "source": [
    "#### hidden layer"
   ]
  },
  {
   "cell_type": "code",
   "execution_count": 69,
   "metadata": {},
   "outputs": [],
   "source": [
    "hidden_layer_hyperparameter_size = 100\n",
    "num_of_words = 3\n",
    "num_of_embeddings = 2\n",
    "num_of_inputs = num_of_words * num_of_embeddings\n",
    "\n",
    "w1 = torch.randn((num_of_inputs, hidden_layer_hyperparameter_size))\n",
    "b1 = torch.randn((hidden_layer_hyperparameter_size))\n",
    "\n"
   ]
  },
  {
   "cell_type": "code",
   "execution_count": 70,
   "metadata": {},
   "outputs": [
    {
     "data": {
      "text/plain": [
       "torch.Size([32, 3])"
      ]
     },
     "execution_count": 70,
     "metadata": {},
     "output_type": "execute_result"
    }
   ],
   "source": [
    "X.shape"
   ]
  },
  {
   "cell_type": "code",
   "execution_count": 71,
   "metadata": {},
   "outputs": [
    {
     "data": {
      "text/plain": [
       "torch.Size([27, 2])"
      ]
     },
     "execution_count": 71,
     "metadata": {},
     "output_type": "execute_result"
    }
   ],
   "source": [
    "C.shape"
   ]
  },
  {
   "cell_type": "code",
   "execution_count": 72,
   "metadata": {},
   "outputs": [
    {
     "data": {
      "text/plain": [
       "torch.Size([32, 3, 2])"
      ]
     },
     "execution_count": 72,
     "metadata": {},
     "output_type": "execute_result"
    }
   ],
   "source": [
    "emb.shape"
   ]
  },
  {
   "cell_type": "code",
   "execution_count": 73,
   "metadata": {},
   "outputs": [
    {
     "data": {
      "text/plain": [
       "torch.Size([6, 100])"
      ]
     },
     "execution_count": 73,
     "metadata": {},
     "output_type": "execute_result"
    }
   ],
   "source": [
    "w1.shape"
   ]
  },
  {
   "attachments": {},
   "cell_type": "markdown",
   "metadata": {},
   "source": [
    "wee want to setup the tensor's shapes in such a way that ```emb @ w1 + b1``` would work.\n",
    "\n",
    "http://blog.ezyang.com/2019/05/pytorch-internals/\n"
   ]
  },
  {
   "cell_type": "code",
   "execution_count": 74,
   "metadata": {},
   "outputs": [
    {
     "data": {
      "text/plain": [
       "tensor([[-2.6134, -3.1258,  0.7510,  ..., -0.8199, -9.1942, -2.6622],\n",
       "        [-2.8158, -0.8962,  0.6558,  ..., -0.4174, -7.9463, -2.2584],\n",
       "        [-2.4356, -1.1802,  1.7480,  ..., -0.9424,  0.1159, -5.3092],\n",
       "        ...,\n",
       "        [-0.3765, -1.2361,  1.2702,  ...,  0.4268, -1.0929, -5.3421],\n",
       "        [ 0.9624,  2.8507, -0.3402,  ..., -1.6579, -3.0843, -2.4998],\n",
       "        [-0.3146, -2.7932,  0.6544,  ..., -0.6907, -0.2089,  0.6663]])"
      ]
     },
     "execution_count": 74,
     "metadata": {},
     "output_type": "execute_result"
    }
   ],
   "source": [
    "x_size = emb.shape[0] # or use -1 for pytorch to figure it out\n",
    "emb.view(x_size, num_of_inputs) @ w1 + b1"
   ]
  },
  {
   "cell_type": "code",
   "execution_count": 75,
   "metadata": {},
   "outputs": [
    {
     "data": {
      "text/plain": [
       "tensor([[-0.9893, -0.9962,  0.6357,  ..., -0.6750, -1.0000, -0.9903],\n",
       "        [-0.9929, -0.7144,  0.5756,  ..., -0.3948, -1.0000, -0.9784],\n",
       "        [-0.9848, -0.8275,  0.9411,  ..., -0.7363,  0.1154, -1.0000],\n",
       "        ...,\n",
       "        [-0.3596, -0.8443,  0.8539,  ...,  0.4027, -0.7979, -1.0000],\n",
       "        [ 0.7453,  0.9933, -0.3277,  ..., -0.9299, -0.9958, -0.9866],\n",
       "        [-0.3046, -0.9925,  0.5747,  ..., -0.5984, -0.2060,  0.5826]])"
      ]
     },
     "execution_count": 75,
     "metadata": {},
     "output_type": "execute_result"
    }
   ],
   "source": [
    "# hidden layer\n",
    "h = torch.tanh(emb.view(-1, num_of_inputs) @ w1 + b1) # added tanh to bring all the values between -1 and 1 for non-linearity\n",
    "h "
   ]
  },
  {
   "attachments": {},
   "cell_type": "markdown",
   "metadata": {},
   "source": [
    "#### output layer"
   ]
  },
  {
   "cell_type": "code",
   "execution_count": 76,
   "metadata": {},
   "outputs": [
    {
     "data": {
      "text/plain": [
       "torch.Size([32, 27])"
      ]
     },
     "execution_count": 76,
     "metadata": {},
     "output_type": "execute_result"
    }
   ],
   "source": [
    "# output layer\n",
    "w2 = torch.randn((hidden_layer_hyperparameter_size, 27))\n",
    "b2 = torch.randn((27))\n",
    "logits = h @ w2 + b2\n",
    "logits.shape"
   ]
  },
  {
   "cell_type": "code",
   "execution_count": 77,
   "metadata": {},
   "outputs": [
    {
     "data": {
      "text/plain": [
       "torch.Size([32, 27])"
      ]
     },
     "execution_count": 77,
     "metadata": {},
     "output_type": "execute_result"
    }
   ],
   "source": [
    "counts = logits.exp() # get fake counts\n",
    "probs = counts / counts.sum(1, keepdim=True) # normalize to get the probabilities\n",
    "probs.shape\n"
   ]
  },
  {
   "cell_type": "code",
   "execution_count": 78,
   "metadata": {},
   "outputs": [
    {
     "data": {
      "text/plain": [
       "tensor(1.0000)"
      ]
     },
     "execution_count": 78,
     "metadata": {},
     "output_type": "execute_result"
    }
   ],
   "source": [
    "# proof of normalized probs is to check if every row sums up to =1\n",
    "probs[0].sum()"
   ]
  },
  {
   "cell_type": "code",
   "execution_count": 79,
   "metadata": {},
   "outputs": [
    {
     "data": {
      "text/plain": [
       "tensor([3.8062e-15, 2.4791e-06, 2.2159e-06, 4.8267e-13, 3.8968e-05, 2.4880e-10,\n",
       "        2.4705e-11, 3.0781e-11, 1.1198e-05, 2.6618e-02, 1.0043e-10, 5.2040e-05,\n",
       "        4.4300e-10, 3.5379e-02, 1.0168e-09, 1.1452e-06, 5.7345e-12, 2.7056e-01,\n",
       "        3.6719e-10, 1.1366e-09, 9.9913e-03, 1.0114e-04, 8.1555e-09, 8.3999e-06,\n",
       "        5.9968e-07, 4.3684e-07, 2.9054e-12, 2.2178e-07, 2.6081e-10, 5.9232e-06,\n",
       "        1.5525e-10, 2.2173e-05])"
      ]
     },
     "execution_count": 79,
     "metadata": {},
     "output_type": "execute_result"
    }
   ],
   "source": [
    "probs[torch.arange(32), Y]"
   ]
  },
  {
   "attachments": {},
   "cell_type": "markdown",
   "metadata": {},
   "source": [
    "we haven't trained the NN yet so the probabilities are far from 1."
   ]
  },
  {
   "cell_type": "code",
   "execution_count": 80,
   "metadata": {},
   "outputs": [
    {
     "data": {
      "text/plain": [
       "tensor(16.4829)"
      ]
     },
     "execution_count": 80,
     "metadata": {},
     "output_type": "execute_result"
    }
   ],
   "source": [
    "# we need to minimize this loss\n",
    "loss = -probs[torch.arange(32), Y].log().mean()\n",
    "loss"
   ]
  },
  {
   "attachments": {},
   "cell_type": "markdown",
   "metadata": {},
   "source": [
    "let's put everything together"
   ]
  },
  {
   "cell_type": "code",
   "execution_count": 82,
   "metadata": {},
   "outputs": [],
   "source": [
    "g = torch.Generator().manual_seed(2147483647)\n",
    "C = torch.randn((27, 2), generator=g, requires_grad=True)\n",
    "W1 = torch.randn((num_of_inputs, hidden_layer_hyperparameter_size), generator=g, requires_grad=True)\n",
    "b1 = torch.randn((hidden_layer_hyperparameter_size), generator=g, requires_grad=True)\n",
    "W2 = torch.randn((hidden_layer_hyperparameter_size, 27), generator=g, requires_grad=True)\n",
    "b2 = torch.randn((27), generator=g, requires_grad=True)\n",
    "parameters = [C, W1, b1, W2, b2]"
   ]
  },
  {
   "cell_type": "code",
   "execution_count": 83,
   "metadata": {},
   "outputs": [
    {
     "data": {
      "text/plain": [
       "3481"
      ]
     },
     "execution_count": 83,
     "metadata": {},
     "output_type": "execute_result"
    }
   ],
   "source": [
    "sum(p.nelement() for p in parameters) # number of parameters in total"
   ]
  },
  {
   "cell_type": "code",
   "execution_count": 84,
   "metadata": {},
   "outputs": [
    {
     "data": {
      "text/plain": [
       "tensor(17.7697, grad_fn=<NegBackward0>)"
      ]
     },
     "execution_count": 84,
     "metadata": {},
     "output_type": "execute_result"
    }
   ],
   "source": [
    "emb = C[X] # (32, 3, 2)\n",
    "h = torch.tanh(emb.view(-1, num_of_inputs) @ W1 + b1) # (32, 100)\n",
    "logits = h @ W2 + b2 # (32, 27)\n",
    "counts = logits.exp() # (32, 27)\n",
    "prob = counts / counts.sum(1, keepdim=True)\n",
    "loss = -prob[torch.arange(32), Y].log().mean()\n",
    "loss"
   ]
  },
  {
   "attachments": {},
   "cell_type": "markdown",
   "metadata": {},
   "source": [
    "instead of using the above code we can also use pytorch library to arrive at the same loss, which is more efficient. "
   ]
  },
  {
   "cell_type": "code",
   "execution_count": 85,
   "metadata": {},
   "outputs": [
    {
     "data": {
      "text/plain": [
       "tensor(17.7697, grad_fn=<NllLossBackward0>)"
      ]
     },
     "execution_count": 85,
     "metadata": {},
     "output_type": "execute_result"
    }
   ],
   "source": [
    "F.cross_entropy(logits, Y)"
   ]
  },
  {
   "attachments": {},
   "cell_type": "markdown",
   "metadata": {},
   "source": [
    "let's setup the training procedure"
   ]
  },
  {
   "cell_type": "code",
   "execution_count": 87,
   "metadata": {},
   "outputs": [
    {
     "name": "stdout",
     "output_type": "stream",
     "text": [
      "loss ->  3.985849380493164\n",
      "loss ->  3.6028308868408203\n",
      "loss ->  3.2621421813964844\n",
      "loss ->  2.961381435394287\n",
      "loss ->  2.6982975006103516\n",
      "loss ->  2.469712734222412\n",
      "loss ->  2.271660566329956\n",
      "loss ->  2.101283550262451\n",
      "loss ->  1.9571772813796997\n",
      "loss ->  1.8374857902526855\n",
      "loss ->  1.7380967140197754\n",
      "loss ->  1.653511643409729\n",
      "loss ->  1.5790899991989136\n",
      "loss ->  1.5117664337158203\n",
      "loss ->  1.449604868888855\n",
      "loss ->  1.3913118839263916\n",
      "loss ->  1.3359922170639038\n",
      "loss ->  1.2830528020858765\n",
      "loss ->  1.2321910858154297\n",
      "loss ->  1.18338143825531\n",
      "loss ->  1.136798620223999\n",
      "loss ->  1.092664122581482\n",
      "loss ->  1.051092267036438\n",
      "loss ->  1.0120269060134888\n",
      "loss ->  0.9752703309059143\n",
      "loss ->  0.940556526184082\n",
      "loss ->  0.9076125621795654\n",
      "loss ->  0.8761920928955078\n",
      "loss ->  0.8460890650749207\n",
      "loss ->  0.8171356916427612\n",
      "loss ->  0.7891989946365356\n",
      "loss ->  0.7621745467185974\n",
      "loss ->  0.7359813451766968\n",
      "loss ->  0.7105579972267151\n",
      "loss ->  0.6858609914779663\n",
      "loss ->  0.6618651747703552\n",
      "loss ->  0.6385655403137207\n",
      "loss ->  0.6159816980361938\n",
      "loss ->  0.5941658616065979\n",
      "loss ->  0.5732104182243347\n",
      "loss ->  0.5532563924789429\n",
      "loss ->  0.5344882011413574\n",
      "loss ->  0.5171165466308594\n",
      "loss ->  0.5013313293457031\n",
      "loss ->  0.48724260926246643\n",
      "loss ->  0.4748404622077942\n",
      "loss ->  0.4639977812767029\n",
      "loss ->  0.45451444387435913\n",
      "loss ->  0.44617098569869995\n",
      "loss ->  0.4387663006782532\n",
      "loss ->  0.4321332573890686\n",
      "loss ->  0.42613884806632996\n",
      "loss ->  0.42067989706993103\n",
      "loss ->  0.4156752824783325\n",
      "loss ->  0.4110615849494934\n",
      "loss ->  0.4067871868610382\n",
      "loss ->  0.402810662984848\n",
      "loss ->  0.3990972936153412\n",
      "loss ->  0.3956180214881897\n",
      "loss ->  0.39234787225723267\n",
      "loss ->  0.3892652988433838\n",
      "loss ->  0.38635194301605225\n",
      "loss ->  0.38359174132347107\n",
      "loss ->  0.38096994161605835\n",
      "loss ->  0.37847423553466797\n",
      "loss ->  0.37609291076660156\n",
      "loss ->  0.3738164007663727\n",
      "loss ->  0.3716350197792053\n",
      "loss ->  0.3695409893989563\n",
      "loss ->  0.3675268888473511\n",
      "loss ->  0.3655855357646942\n",
      "loss ->  0.3637113869190216\n",
      "loss ->  0.3618983030319214\n",
      "loss ->  0.36014166474342346\n",
      "loss ->  0.3584362864494324\n",
      "loss ->  0.3567781150341034\n",
      "loss ->  0.3551627993583679\n",
      "loss ->  0.35358694195747375\n",
      "loss ->  0.35204702615737915\n",
      "loss ->  0.3505397439002991\n",
      "loss ->  0.3490622937679291\n",
      "loss ->  0.3476122319698334\n",
      "loss ->  0.34618666768074036\n",
      "loss ->  0.34478360414505005\n",
      "loss ->  0.3434009850025177\n",
      "loss ->  0.3420368432998657\n",
      "loss ->  0.34068992733955383\n",
      "loss ->  0.33935868740081787\n",
      "loss ->  0.33804193139076233\n",
      "loss ->  0.3367388844490051\n",
      "loss ->  0.33544883131980896\n",
      "loss ->  0.33417123556137085\n",
      "loss ->  0.33290591835975647\n",
      "loss ->  0.33165305852890015\n",
      "loss ->  0.33041250705718994\n",
      "loss ->  0.32918494939804077\n",
      "loss ->  0.3279707729816437\n",
      "loss ->  0.3267705738544464\n",
      "loss ->  0.32558542490005493\n",
      "loss ->  0.32441604137420654\n"
     ]
    }
   ],
   "source": [
    "for _ in range(100):\n",
    "    # forward pass\n",
    "    emb = C[X] # (32, 3, 2)\n",
    "    h = torch.tanh(emb.view(-1, num_of_inputs) @ W1 + b1) # (32, 100)\n",
    "    logits = h @ W2 + b2 # (32, 27)\n",
    "    loss = F.cross_entropy(logits, Y)\n",
    "    print('loss -> ', loss.item())\n",
    "\n",
    "    # backward pass\n",
    "    for p in parameters:\n",
    "        p.grad = None\n",
    "    loss.backward()\n",
    "\n",
    "    # update\n",
    "    for p in parameters:\n",
    "        p.data.add_(-0.1 * p.grad)"
   ]
  },
  {
   "attachments": {},
   "cell_type": "markdown",
   "metadata": {},
   "source": [
    "so far we reached above optimized loss with 5 words and 32 examples. so let's pull in all the data."
   ]
  },
  {
   "cell_type": "code",
   "execution_count": 89,
   "metadata": {},
   "outputs": [
    {
     "data": {
      "text/plain": [
       "(torch.Size([228146, 3]), torch.Size([228146]))"
      ]
     },
     "execution_count": 89,
     "metadata": {},
     "output_type": "execute_result"
    }
   ],
   "source": [
    "# build the dataset\n",
    "\n",
    "block_size = 3 # context length: how many chars do we take to predict the next char, 4-th one\n",
    "X, Y = [], []\n",
    "for w in words: # the examples we can generate from the first 5 words\n",
    "    context = [0] * block_size\n",
    "    for ch in w + '.': # we are padding with dots, because if the word doesn't have enough chars to cover for our block_size, we'll have something to build\n",
    "        ix = s2i[ch]\n",
    "        X.append(context)\n",
    "        Y.append(ix)\n",
    "        context = context[1:] + [ix] # crop and append\n",
    "X = torch.tensor(X)\n",
    "Y = torch.tensor(Y)\n",
    "\n",
    "X.shape, Y.shape"
   ]
  },
  {
   "cell_type": "code",
   "execution_count": 93,
   "metadata": {},
   "outputs": [
    {
     "data": {
      "text/plain": [
       "3481"
      ]
     },
     "execution_count": 93,
     "metadata": {},
     "output_type": "execute_result"
    }
   ],
   "source": [
    "g = torch.Generator().manual_seed(2147483647)\n",
    "C = torch.randn((27, 2), generator=g, requires_grad=True)\n",
    "W1 = torch.randn((num_of_inputs, hidden_layer_hyperparameter_size), generator=g, requires_grad=True)\n",
    "b1 = torch.randn((hidden_layer_hyperparameter_size), generator=g, requires_grad=True)\n",
    "W2 = torch.randn((hidden_layer_hyperparameter_size, 27), generator=g, requires_grad=True)\n",
    "b2 = torch.randn((27), generator=g, requires_grad=True)\n",
    "parameters = [C, W1, b1, W2, b2]\n",
    "\n",
    "sum(p.nelement() for p in parameters) # number of parameters in total"
   ]
  },
  {
   "cell_type": "code",
   "execution_count": 95,
   "metadata": {},
   "outputs": [
    {
     "name": "stdout",
     "output_type": "stream",
     "text": [
      "loss ->  10.709587097167969\n",
      "loss ->  10.407631874084473\n",
      "loss ->  10.127808570861816\n",
      "loss ->  9.864364624023438\n",
      "loss ->  9.614503860473633\n",
      "loss ->  9.376439094543457\n",
      "loss ->  9.148944854736328\n",
      "loss ->  8.931110382080078\n",
      "loss ->  8.722230911254883\n",
      "loss ->  8.521748542785645\n",
      "loss ->  8.329227447509766\n",
      "loss ->  8.144325256347656\n",
      "loss ->  7.966791152954102\n",
      "loss ->  7.796450614929199\n",
      "loss ->  7.633185386657715\n",
      "loss ->  7.476908206939697\n",
      "loss ->  7.327521800994873\n",
      "loss ->  7.184885501861572\n",
      "loss ->  7.048791885375977\n",
      "loss ->  6.918952465057373\n",
      "loss ->  6.795018196105957\n",
      "loss ->  6.676602840423584\n",
      "loss ->  6.563319206237793\n",
      "loss ->  6.454790115356445\n",
      "loss ->  6.350668907165527\n",
      "loss ->  6.250643253326416\n",
      "loss ->  6.15443229675293\n",
      "loss ->  6.06178617477417\n",
      "loss ->  5.972482681274414\n",
      "loss ->  5.886328220367432\n",
      "loss ->  5.803147792816162\n",
      "loss ->  5.722784519195557\n",
      "loss ->  5.645095348358154\n",
      "loss ->  5.5699462890625\n",
      "loss ->  5.497213840484619\n",
      "loss ->  5.426781177520752\n",
      "loss ->  5.358536243438721\n",
      "loss ->  5.292376518249512\n",
      "loss ->  5.228204727172852\n",
      "loss ->  5.165928840637207\n",
      "loss ->  5.105469226837158\n",
      "loss ->  5.046748638153076\n",
      "loss ->  4.989699363708496\n",
      "loss ->  4.934262275695801\n",
      "loss ->  4.880381107330322\n",
      "loss ->  4.828006744384766\n",
      "loss ->  4.777096271514893\n",
      "loss ->  4.727611064910889\n",
      "loss ->  4.6795148849487305\n",
      "loss ->  4.6327805519104\n",
      "loss ->  4.587380409240723\n",
      "loss ->  4.543290138244629\n",
      "loss ->  4.500492095947266\n",
      "loss ->  4.458968162536621\n",
      "loss ->  4.418701648712158\n",
      "loss ->  4.379676818847656\n",
      "loss ->  4.341879367828369\n",
      "loss ->  4.305293083190918\n",
      "loss ->  4.269900798797607\n",
      "loss ->  4.235681533813477\n",
      "loss ->  4.202613830566406\n",
      "loss ->  4.170671463012695\n",
      "loss ->  4.139826774597168\n",
      "loss ->  4.110045433044434\n",
      "loss ->  4.08129358291626\n",
      "loss ->  4.053532600402832\n",
      "loss ->  4.026721954345703\n",
      "loss ->  4.000818729400635\n",
      "loss ->  3.975780963897705\n",
      "loss ->  3.9515655040740967\n",
      "loss ->  3.928129196166992\n",
      "loss ->  3.9054319858551025\n",
      "loss ->  3.883434534072876\n",
      "loss ->  3.8620998859405518\n",
      "loss ->  3.841392755508423\n",
      "loss ->  3.8212811946868896\n",
      "loss ->  3.8017354011535645\n",
      "loss ->  3.7827279567718506\n",
      "loss ->  3.7642343044281006\n",
      "loss ->  3.7462308406829834\n",
      "loss ->  3.728696823120117\n",
      "loss ->  3.7116124629974365\n",
      "loss ->  3.694960117340088\n",
      "loss ->  3.6787238121032715\n",
      "loss ->  3.662888288497925\n",
      "loss ->  3.6474387645721436\n",
      "loss ->  3.6323623657226562\n",
      "loss ->  3.6176464557647705\n",
      "loss ->  3.6032798290252686\n",
      "loss ->  3.589250326156616\n",
      "loss ->  3.5755486488342285\n",
      "loss ->  3.5621633529663086\n",
      "loss ->  3.549085855484009\n",
      "loss ->  3.5363059043884277\n",
      "loss ->  3.523815155029297\n",
      "loss ->  3.5116047859191895\n",
      "loss ->  3.4996654987335205\n",
      "loss ->  3.487990617752075\n",
      "loss ->  3.4765710830688477\n",
      "loss ->  3.465399980545044\n"
     ]
    }
   ],
   "source": [
    "for _ in range(100):\n",
    "    # forward pass\n",
    "    emb = C[X] # (32, 3, 2)\n",
    "    h = torch.tanh(emb.view(-1, num_of_inputs) @ W1 + b1) # (32, 100)\n",
    "    logits = h @ W2 + b2 # (32, 27)\n",
    "    loss = F.cross_entropy(logits, Y)\n",
    "    print('loss -> ', loss.item())\n",
    "\n",
    "    # backward pass\n",
    "    for p in parameters:\n",
    "        p.grad = None\n",
    "    loss.backward()\n",
    "\n",
    "    # update\n",
    "    for p in parameters:\n",
    "        p.data.add_(-0.1 * p.grad)"
   ]
  },
  {
   "attachments": {},
   "cell_type": "markdown",
   "metadata": {},
   "source": [
    "to optimize the training process we introduce mini-batches"
   ]
  }
 ],
 "metadata": {
  "kernelspec": {
   "display_name": "myenv",
   "language": "python",
   "name": "python3"
  },
  "language_info": {
   "codemirror_mode": {
    "name": "ipython",
    "version": 3
   },
   "file_extension": ".py",
   "mimetype": "text/x-python",
   "name": "python",
   "nbconvert_exporter": "python",
   "pygments_lexer": "ipython3",
   "version": "3.9.7"
  },
  "orig_nbformat": 4
 },
 "nbformat": 4,
 "nbformat_minor": 2
}
